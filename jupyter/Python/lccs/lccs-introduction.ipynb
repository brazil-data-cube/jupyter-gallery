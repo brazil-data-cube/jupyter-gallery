{
 "cells": [
  {
   "cell_type": "markdown",
   "id": "shaped-retreat",
   "metadata": {},
   "source": [
    "<img src=\"../../../img/logo-bdc.png\" align=\"right\" width=\"64\"/>\n",
    "\n",
    "# <span style=\"color:#336699; text-align:center\">Introduction to the Land Cover Classification System Web Service (LCCS-WS)</span>\n",
    "<hr style=\"border:2px solid #0077b9;\">\n",
    "\n",
    "<div style=text-align: left;>\n",
    "    <a href=\"https://nbviewer.jupyter.org/github/brazil-data-cube/code-gallery/blob/master/jupyter/Python/lccs/lccs-introduction.ipynb\"><img src=\"https://raw.githubusercontent.com/jupyter/design/master/logos/Badges/nbviewer_badge.svg\" align=\"center\"/></a>\n",
    "</div>\n",
    "\n",
    "<br/>\n",
    "\n",
    "<div style=\"text-align: center;font-size: 90%;\">\n",
    "    Fabiana Zioti<sup><a href=\"https://orcid.org/0000-0002-7305-6043\"><i class=\"fab fa-lg fa-orcid\" style=\"color: #a6ce39\"></i></a></sup>, Felipe Menino Carlos<sup><a href=\"https://orcid.org/0000-0002-3334-4315\"><i class=\"fab fa-lg fa-orcid\" style=\"color: #a6ce39\"></i></a></sup>, Karine Reis Ferreira<sup><a href=\"https://orcid.org/0000-0003-2656-5504\"><i class=\"fab fa-lg fa-orcid\" style=\"color: #a6ce39\"></i></a></sup>, Gilberto R. Queiroz<sup><a href=\"https://orcid.org/0000-0001-7534-0219\"><i class=\"fab fa-lg fa-orcid\" style=\"color: #a6ce39\"></i></a></sup>\n",
    "    <br/><br/>\n",
    "    Earth Observation and Geoinformatics Division, National Institute for Space Research (INPE)\n",
    "    <br/>\n",
    "    Avenida dos Astronautas, 1758, Jardim da Granja, São José dos Campos, SP 12227-010, Brazil\n",
    "    <br/><br/>\n",
    "    Contact: <a href=\"mailto:brazildatacube@inpe.br\">brazildatacube@inpe.br</a>\n",
    "    <br/><br/>\n",
    "    Last Update: April 28, 2021\n",
    "</div>\n",
    "\n",
    "<br/>\n",
    "\n",
    "<div style=\"text-align: justify;  margin-left: 25%; margin-right: 25%;\">\n",
    "<b>Abstract.</b> This Jupyter Notebook gives an overview on how to use Python Client for LCCS-WS to discover and access land use and cover classificationn system from well-known projects, including PRODES, DETER, and TerraClass.\n",
    "</div>    "
   ]
  },
  {
   "cell_type": "markdown",
   "id": "killing-emergency",
   "metadata": {},
   "source": [
    "# Introduction\n",
    "<hr style=\"border:1px solid #0077b9;\">"
   ]
  },
  {
   "cell_type": "markdown",
   "id": "specialized-postcard",
   "metadata": {},
   "source": [
    "The **L**and **C**over **C**lassification **S**ystem **W**eb **S**ervice (LCCS-WS) is a web service that provides the classification systems used in projects that provide land use and land cover maps. The purpose of the service is to facilitate the access and visualization of the classes and their symbologies in each classification system and the mappings between the classes of  classification systems in order to simplify combined analysis of the data.\n",
    "\n",
    "The API defined by this service provides a simple interface to use the LCCS-DB data model, shown in `Figure 1`, facilitating the access of applications to the classification systems, classes, mappings and symbologies of classified maps, such as, GeoServer and QGIS.\n",
    "\n",
    "<br>\n",
    "<center>\n",
    "    <img src=\"../../../img/lccs/lccs_database.png\" width=\"700\" heigh=\"500\" />,\n",
    "    <br/>\n",
    "    <b>Figure 1</b> - Land Cover Classification System Database Model.\n",
    "</center>\n",
    "</br>\n",
    "\n",
    "\n",
    "This Jupyter Notebook shows how to use the [Python Client Library](https://github.com/brazil-data-cube/lccs.py) for Land Cover Classification System Service."
   ]
  },
  {
   "cell_type": "markdown",
   "id": "contained-reward",
   "metadata": {},
   "source": [
    "# Python Client API\n",
    "<hr style=\"border:1px solid #0077b9;\">"
   ]
  },
  {
   "cell_type": "markdown",
   "id": "elder-vector",
   "metadata": {},
   "source": [
    "For running the examples in this Jupyter Notebook you will need to install the [LCCS client for Python](https://github.com/brazil-data-cube/lccs.py).To install it from PyPI using pip, use the following command:"
   ]
  },
  {
   "cell_type": "code",
   "execution_count": null,
   "id": "twelve-collectible",
   "metadata": {},
   "outputs": [],
   "source": [
    "#!pip install git+https://github.com/brazil-data-cube/lccs.py@v0.6.0"
   ]
  },
  {
   "cell_type": "markdown",
   "id": "separate-redhead",
   "metadata": {},
   "source": [
    " In order to access the funcionalities of the client API, you should import the `lccs` package, as follows:"
   ]
  },
  {
   "cell_type": "code",
   "execution_count": null,
   "id": "korean-virgin",
   "metadata": {},
   "outputs": [],
   "source": [
    "import lccs"
   ]
  },
  {
   "cell_type": "markdown",
   "id": "nutritional-indian",
   "metadata": {},
   "source": [
    "After that, you can check the installed version of LCCS client package:"
   ]
  },
  {
   "cell_type": "code",
   "execution_count": null,
   "id": "fluid-adjustment",
   "metadata": {},
   "outputs": [],
   "source": [
    "lccs.__version__"
   ]
  },
  {
   "cell_type": "markdown",
   "id": "lined-programmer",
   "metadata": {},
   "source": [
    "LCCS is a client-server service. On the server-side, the data is stored, which is accessible through each of the API operations, described earlier. On the client-side (what this tutorial covers), you can use the operations and consume the data. In this tutorial, we will use the Python client to access the data. We need to define the URL where the LCCS server is operating. The code below defines the URL of the LCCS server. You should create a lccs object attached to a given service:"
   ]
  },
  {
   "cell_type": "code",
   "execution_count": null,
   "id": "looking-fishing",
   "metadata": {},
   "outputs": [],
   "source": [
    "service = lccs.LCCS(\"https://brazildatacube.dpi.inpe.br/dev/lccs/\")"
   ]
  },
  {
   "cell_type": "markdown",
   "id": "authentic-billion",
   "metadata": {},
   "source": [
    "# Listing the Available Classification Systems\n",
    "<hr style=\"border:1px solid #0077b9;\">"
   ]
  },
  {
   "cell_type": "markdown",
   "id": "english-angel",
   "metadata": {},
   "source": [
    "In the Jupyter environment, the LCCS object will list the available classification systems from the service:"
   ]
  },
  {
   "cell_type": "code",
   "execution_count": null,
   "id": "accessory-saver",
   "metadata": {},
   "outputs": [],
   "source": [
    "service"
   ]
  },
  {
   "cell_type": "markdown",
   "id": "hidden-processing",
   "metadata": {},
   "source": [
    "Or you can access the classification systems property, which returns a list of available classifications systems:"
   ]
  },
  {
   "cell_type": "code",
   "execution_count": null,
   "id": "norwegian-health",
   "metadata": {},
   "outputs": [],
   "source": [
    "service.classification_systems"
   ]
  },
  {
   "cell_type": "markdown",
   "id": "impaired-bristol",
   "metadata": {},
   "source": [
    "In the LCCS Python client, the list of classification systems is composed by the ``name`` and ``version`` of a classification system, separated by a hyphen. For example, the ``BDC`` classification system, version ``1.0``, is listed in this operation as ``BDC-1.0``. These identifiers can be used in other LCCS operations."
   ]
  },
  {
   "cell_type": "markdown",
   "id": "scheduled-scratch",
   "metadata": {},
   "source": [
    "# Retrieving the Metadata of a Classification System\n",
    "<hr style=\"border:1px solid #0077b9;\">"
   ]
  },
  {
   "cell_type": "markdown",
   "id": "organic-carroll",
   "metadata": {},
   "source": [
    "The `classification_system` method returns information about a given classification identified by its name-version. In this example we are retrieving information about the classification system `PRODES-1.0`, `IBGE-1` and `BDC-1.0`:"
   ]
  },
  {
   "cell_type": "code",
   "execution_count": null,
   "id": "loving-excerpt",
   "metadata": {},
   "outputs": [],
   "source": [
    "prodes_system = service.classification_system('PRODES-1.0')\n",
    "prodes_system"
   ]
  },
  {
   "cell_type": "code",
   "execution_count": null,
   "id": "acquired-concentration",
   "metadata": {},
   "outputs": [],
   "source": [
    "ibge_system = service.classification_system('IBGE-1')\n",
    "ibge_system"
   ]
  },
  {
   "cell_type": "code",
   "execution_count": null,
   "id": "roman-place",
   "metadata": {},
   "outputs": [],
   "source": [
    "bdc_system = service.classification_system('BDC-1.0')\n",
    "bdc_system"
   ]
  },
  {
   "cell_type": "markdown",
   "id": "common-motivation",
   "metadata": {},
   "source": [
    "It is also possible to access the classification system information as follows:"
   ]
  },
  {
   "cell_type": "code",
   "execution_count": null,
   "id": "underlying-ghost",
   "metadata": {},
   "outputs": [],
   "source": [
    "# Obtains the description of a classification system\n",
    "prodes_system.description"
   ]
  },
  {
   "cell_type": "code",
   "execution_count": null,
   "id": "recognized-brass",
   "metadata": {},
   "outputs": [],
   "source": [
    "# Obtains the name of a classification system\n",
    "prodes_system.name"
   ]
  },
  {
   "cell_type": "code",
   "execution_count": null,
   "id": "controversial-quarterly",
   "metadata": {},
   "outputs": [],
   "source": [
    "# Obtains the version of a classification system\n",
    "prodes_system.version"
   ]
  },
  {
   "cell_type": "code",
   "execution_count": null,
   "id": "international-temperature",
   "metadata": {},
   "outputs": [],
   "source": [
    "# Returns all classes in a classification system\n",
    "prodes_classes = prodes_system.classes()\n",
    "for c in prodes_classes:\n",
    "    print(c.name)"
   ]
  },
  {
   "cell_type": "markdown",
   "id": "framed-bouquet",
   "metadata": {},
   "source": [
    "# Retrieving the Metadata of a Class from a Classification System\n",
    "<hr style=\"border:1px solid #0077b9;\">"
   ]
  },
  {
   "cell_type": "markdown",
   "id": "neutral-causing",
   "metadata": {},
   "source": [
    "Fetch the class ``Área Artificial`` of ``IBGE-1`` classification system."
   ]
  },
  {
   "cell_type": "code",
   "execution_count": null,
   "id": "protecting-nation",
   "metadata": {},
   "outputs": [],
   "source": [
    "# Return a specific class of a classification system\n",
    "ibge_aa = ibge_system.classes('Área Artificial')\n",
    "ibge_aa"
   ]
  },
  {
   "cell_type": "markdown",
   "id": "third-infection",
   "metadata": {},
   "source": [
    "It is also possible to access the classes information as follows:"
   ]
  },
  {
   "cell_type": "code",
   "execution_count": null,
   "id": "opened-wheel",
   "metadata": {},
   "outputs": [],
   "source": [
    "# Obtains the name of a class\n",
    "ibge_aa.name"
   ]
  },
  {
   "cell_type": "code",
   "execution_count": null,
   "id": "improving-premiere",
   "metadata": {},
   "outputs": [],
   "source": [
    "#O btains the description of a class\n",
    "ibge_aa.description"
   ]
  },
  {
   "cell_type": "markdown",
   "id": "bizarre-jamaica",
   "metadata": {},
   "source": [
    "# Retrieving the Styles from a Classification System\n",
    "<hr style=\"border:1px solid #0077b9;\">"
   ]
  },
  {
   "cell_type": "markdown",
   "id": "sudden-wilson",
   "metadata": {},
   "source": [
    "The operation below shows how to retrieve all available style formats from the ``PRODES-1.0`` classification system. You can use the style formats to retrieve the symbologies from a classification system."
   ]
  },
  {
   "cell_type": "code",
   "execution_count": null,
   "id": "happy-drilling",
   "metadata": {},
   "outputs": [],
   "source": [
    "style_formats = service.style_formats(system_source_name='PRODES-1.0')\n",
    "style_formats"
   ]
  },
  {
   "cell_type": "markdown",
   "id": "republican-principle",
   "metadata": {},
   "source": [
    "Fetch the style associated to the classification system ``PRODES-1.0`` with the specific format. In this example the style format is ``QGIS``. You can also pass in the ``path`` parameter the directory that you want to save this symbology."
   ]
  },
  {
   "cell_type": "code",
   "execution_count": null,
   "id": "capital-conversion",
   "metadata": {},
   "outputs": [],
   "source": [
    "# Save a style file of a specific classification system and style format\n",
    "\n",
    "service.get_style(system_name='PRODES-1.0', format_name='QGIS', path='/home/user/Downloads/')"
   ]
  }
 ],
 "metadata": {
  "kernelspec": {
   "display_name": "jupyter-env",
   "language": "python",
   "name": "jupyter-env"
  },
  "language_info": {
   "codemirror_mode": {
    "name": "ipython",
    "version": 3
   },
   "file_extension": ".py",
   "mimetype": "text/x-python",
   "name": "python",
   "nbconvert_exporter": "python",
   "pygments_lexer": "ipython3",
   "version": "3.7.10"
  }
 },
 "nbformat": 4,
 "nbformat_minor": 5
}
